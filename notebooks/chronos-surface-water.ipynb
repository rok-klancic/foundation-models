{
 "cells": [
  {
   "cell_type": "markdown",
   "metadata": {},
   "source": [
    "### Testing Chronos on surface water data"
   ]
  },
  {
   "cell_type": "markdown",
   "metadata": {},
   "source": [
    "Imports"
   ]
  },
  {
   "cell_type": "code",
   "execution_count": null,
   "metadata": {},
   "outputs": [],
   "source": [
    "import pandas as pd\n",
    "import numpy as np\n",
    "import matplotlib.pyplot as plt\n",
    "from tqdm.auto import tqdm\n",
    "import joblib\n",
    "\n",
    "import time\n",
    "from datasetsforecast.m3 import M3\n",
    "from utilsforecast.losses import *\n",
    "from utilsforecast.evaluation import evaluate\n",
    "import torch\n",
    "from chronos import ChronosPipeline\n",
    "\n",
    "from sklearn.metrics import r2_score"
   ]
  },
  {
   "cell_type": "markdown",
   "metadata": {},
   "source": [
    "Data preparation"
   ]
  },
  {
   "cell_type": "code",
   "execution_count": null,
   "metadata": {},
   "outputs": [],
   "source": [
    "# Read the dataset\n",
    "watercourse_by_stations = joblib.load('../data/interim/watercourse_by_stations.joblib')"
   ]
  },
  {
   "cell_type": "code",
   "execution_count": null,
   "metadata": {},
   "outputs": [],
   "source": [
    "# Ensure datetime\n",
    "for key, data in watercourse_by_stations.items():\n",
    "    data['date'] = pd.to_datetime(data['date'])"
   ]
  },
  {
   "cell_type": "markdown",
   "metadata": {},
   "source": [
    "Standard scaling"
   ]
  },
  {
   "cell_type": "code",
   "execution_count": null,
   "metadata": {},
   "outputs": [],
   "source": [
    "# Define the standard scaling function\n",
    "def standard_scaling(x):\n",
    "    mean = np.mean(np.abs(x))\n",
    "    s = np.std(x)\n",
    "\n",
    "    return (x - mean)/s\n",
    "\n",
    "# Define the reverse function of standard scaling\n",
    "def standard_unscaling(original, scaled):\n",
    "    mean = np.mean(np.abs(original))\n",
    "    s = np.std(original)\n",
    "\n",
    "    return (scaled * s) + mean"
   ]
  },
  {
   "cell_type": "markdown",
   "metadata": {},
   "source": [
    "Visualise data"
   ]
  },
  {
   "cell_type": "code",
   "execution_count": null,
   "metadata": {},
   "outputs": [],
   "source": [
    "# Relative diffeences in level\n",
    "plt.figure(figsize=(8, 4))\n",
    "plt.plot(watercourse_by_stations[1335]['date'], watercourse_by_stations[1335]['level_diff'], color=\"royalblue\", label=\"water level difference\")\n",
    "plt.legend()\n",
    "plt.grid()\n",
    "plt.show()"
   ]
  },
  {
   "cell_type": "code",
   "execution_count": null,
   "metadata": {},
   "outputs": [],
   "source": [
    "# Absolute water level\n",
    "plt.figure(figsize=(8, 4))\n",
    "plt.plot(watercourse_by_stations[1335]['date'], watercourse_by_stations[1335]['level'], color=\"royalblue\", label=\"water level\")\n",
    "plt.legend()\n",
    "plt.grid()\n",
    "plt.show()"
   ]
  },
  {
   "cell_type": "markdown",
   "metadata": {},
   "source": [
    "#### Forecast for level differences (multiple stations)"
   ]
  },
  {
   "cell_type": "code",
   "execution_count": null,
   "metadata": {},
   "outputs": [],
   "source": [
    "# List of station used for testing\n",
    "station_list = ['2530', '2620', '4200', '4230', '4270', '4515', '4520', '4570', '4575', '5040', '5078', '5330', '5425', '5500', '6060', '6068', '6200', '6220', '6300', '6340', '8454', '8565']"
   ]
  },
  {
   "cell_type": "code",
   "execution_count": null,
   "metadata": {},
   "outputs": [],
   "source": [
    "# Cast the stations to int\n",
    "for i in range(len(station_list)):\n",
    "    station_list[i] = int(station_list[i])"
   ]
  },
  {
   "cell_type": "code",
   "execution_count": null,
   "metadata": {},
   "outputs": [],
   "source": [
    "pipeline = ChronosPipeline.from_pretrained(\n",
    "    \"amazon/chronos-t5-large\",\n",
    "    device_map=\"cuda\",\n",
    "    torch_dtype=torch.bfloat16,\n",
    ")\n",
    "\n",
    "horizon = 5\n",
    "day_len = 365\n",
    "\n",
    "# List for r2 results for different prediction horizons\n",
    "r2_scores = [[] for _ in range(5)]\n",
    "predictions = []\n",
    "\n",
    "for station in station_list:\n",
    "    # List for storing the predictions\n",
    "    predictions = [[] for _ in range(5)]\n",
    "\n",
    "    # Iterate from day_len days before the end, to the last day\n",
    "    for i in range(day_len + 4, 0, -1):\n",
    "        y = watercourse_by_stations[station]['level_diff'].values\n",
    "        #y = standard_scaling(y)\n",
    "        y = torch.tensor(y[:-i])\n",
    "\n",
    "        forecast = pipeline.predict(\n",
    "            context= y,\n",
    "            prediction_length=horizon,\n",
    "            num_samples=20\n",
    "        )\n",
    "\n",
    "        low, median, high = np.quantile(forecast[0].numpy(), [0.1, 0.5, 0.9], axis=0)\n",
    "\n",
    "        #median = standard_unscaling(watercourse_by_stations[station]['level_diff'], median)\n",
    "\n",
    "        # Store the results for every prediction horizon separately\n",
    "        for i in range(5):\n",
    "            predictions[i].append(median[i])\n",
    "    \n",
    "    # Clean up the results\n",
    "    predictions[0] = predictions[0][-day_len:]\n",
    "    predictions[1] = predictions[1][3:-1]\n",
    "    predictions[2] = predictions[2][2:-2]\n",
    "    predictions[3] = predictions[3][1:-3]\n",
    "    predictions[4] = predictions[4][0:-4]\n",
    "\n",
    "    # Calculate the r2 scores and store them in a list\n",
    "    for i in range(5):\n",
    "        r2_scores[i].append(r2_score(watercourse_by_stations[station]['level_diff'][-day_len:], predictions[i]))"
   ]
  },
  {
   "cell_type": "markdown",
   "metadata": {},
   "source": [
    "Visualise results"
   ]
  },
  {
   "cell_type": "code",
   "execution_count": null,
   "metadata": {},
   "outputs": [],
   "source": [
    "plt.figure(figsize=(8, 4))\n",
    "plt.plot(watercourse_by_stations[station_list[0]]['date'][-200:], watercourse_by_stations[1335]['level_diff'][-200:], color=\"royalblue\", label=\"water level\")\n",
    "plt.plot(watercourse_by_stations[station_list[0]]['date'][-day_len:], predictions[0], color=\"tomato\", label=\"median forecast\")\n",
    "plt.legend()\n",
    "plt.grid()\n",
    "plt.show()"
   ]
  },
  {
   "cell_type": "markdown",
   "metadata": {},
   "source": [
    "Evaluation"
   ]
  },
  {
   "cell_type": "code",
   "execution_count": null,
   "metadata": {},
   "outputs": [],
   "source": [
    "# Calculate the average r2 score\n",
    "r2_average =  []\n",
    "std_dev = []\n",
    "\n",
    "for i in range(5):\n",
    "    r2_average.append(np.mean(r2_scores[i]))\n",
    "    std_dev.append(np.std(r2_scores[i]))"
   ]
  },
  {
   "cell_type": "code",
   "execution_count": null,
   "metadata": {},
   "outputs": [],
   "source": [
    "r2_average"
   ]
  },
  {
   "cell_type": "code",
   "execution_count": null,
   "metadata": {},
   "outputs": [],
   "source": [
    "# Save the average r2_scores\n",
    "with open('../reports/chronos-large/chronos-large-surface-water-r2.txt', 'w') as file:\n",
    "    for item in r2_average:\n",
    "        file.write(f\"{item}\\n\")"
   ]
  },
  {
   "cell_type": "code",
   "execution_count": null,
   "metadata": {},
   "outputs": [],
   "source": [
    "# Save the standard deviations\n",
    "with open('../reports/chronos-large/chronos-large-surface-water-std-dev.txt', 'w') as file:\n",
    "    for item in std_dev:\n",
    "        file.write(f\"{item}\\n\")"
   ]
  },
  {
   "cell_type": "code",
   "execution_count": null,
   "metadata": {},
   "outputs": [],
   "source": [
    "# Transpose the r2_scores list\n",
    "r2_scores_transposed = [list(x) for x in zip(*r2_scores)]\n",
    "# Pair up the stations with their r2_scores and store them in a dictionary\n",
    "scores = dict(zip(station_list, r2_scores_transposed))\n",
    "scores"
   ]
  },
  {
   "cell_type": "code",
   "execution_count": null,
   "metadata": {},
   "outputs": [],
   "source": [
    "# Sort them by the value in r2_scores[0]\n",
    "scores_sorted = {k: v for k, v in sorted(scores.items(), key=lambda item: item[1][0])}\n",
    "scores_sorted"
   ]
  },
  {
   "cell_type": "code",
   "execution_count": null,
   "metadata": {},
   "outputs": [],
   "source": [
    "# Save the r2_scores\n",
    "joblib.dump(scores_sorted, '../reports/chronos-large/chronos-large-surface-water-r2-stations.joblib')"
   ]
  },
  {
   "cell_type": "markdown",
   "metadata": {},
   "source": [
    "#### Forecast for absolute water levels"
   ]
  },
  {
   "cell_type": "code",
   "execution_count": null,
   "metadata": {},
   "outputs": [],
   "source": [
    "# List of station used for testing\n",
    "station_list = ['2530', '2620', '4200', '4230', '4270', '4515', '4520', '4570', '4575', '5040', '5078', '5330', '5425', '5500', '6060', '6068', '6200', '6220', '6300', '6340', '8454', '8565']"
   ]
  },
  {
   "cell_type": "code",
   "execution_count": null,
   "metadata": {},
   "outputs": [],
   "source": [
    "station_list = [1335]"
   ]
  },
  {
   "cell_type": "code",
   "execution_count": null,
   "metadata": {},
   "outputs": [],
   "source": [
    "# Cast the stations to int\n",
    "for i in range(len(station_list)):\n",
    "    station_list[i] = int(station_list[i])"
   ]
  },
  {
   "cell_type": "code",
   "execution_count": null,
   "metadata": {},
   "outputs": [],
   "source": [
    "pipeline = ChronosPipeline.from_pretrained(\n",
    "    \"amazon/chronos-t5-large\",\n",
    "    device_map=\"cuda\",\n",
    "    torch_dtype=torch.bfloat16,\n",
    ")\n",
    "\n",
    "horizon = 5\n",
    "day_len = 200\n",
    "\n",
    "# List for r2 results for different prediction horizons\n",
    "r2_scores = [[] for _ in range(5)]\n",
    "predictions = []\n",
    "\n",
    "for station in station_list:\n",
    "    # List for storing the predictions\n",
    "    predictions = [[] for _ in range(5)]\n",
    "\n",
    "    # Iterate from day_len days before the end, to the last day\n",
    "    for i in range(day_len + 4, 0, -1):\n",
    "        y = watercourse_by_stations[station]['level'].values\n",
    "        y = standard_scaling(y)\n",
    "        y = torch.tensor(y[:-i])\n",
    "\n",
    "        forecast = pipeline.predict(\n",
    "            context= y,\n",
    "            prediction_length=horizon,\n",
    "            num_samples=20\n",
    "        )\n",
    "\n",
    "        low, median, high = np.quantile(forecast[0].numpy(), [0.1, 0.5, 0.9], axis=0)\n",
    "\n",
    "        median = standard_unscaling(watercourse_by_stations[station]['level'], median)\n",
    "\n",
    "        # Store the results for every prediction horizon separately\n",
    "        for i in range(5):\n",
    "            predictions[i].append(median[i])\n",
    "    \n",
    "    # Clean up the results\n",
    "    predictions[0] = predictions[0][-200:]\n",
    "    predictions[1] = predictions[1][3:-1]\n",
    "    predictions[2] = predictions[2][2:-2]\n",
    "    predictions[3] = predictions[3][1:-3]\n",
    "    predictions[4] = predictions[4][0:-4]\n",
    "\n",
    "    # Calculate the r2 scores and store them in a list\n",
    "    for i in range(5):\n",
    "        r2_scores[i].append(r2_score(watercourse_by_stations[station]['level'][-day_len:], predictions[i]))"
   ]
  },
  {
   "cell_type": "markdown",
   "metadata": {},
   "source": [
    "Visualise results"
   ]
  },
  {
   "cell_type": "code",
   "execution_count": null,
   "metadata": {},
   "outputs": [],
   "source": [
    "plt.figure(figsize=(8, 4))\n",
    "plt.plot(watercourse_by_stations[station_list[0]]['date'][-200:], watercourse_by_stations[1335]['level'][-200:], color=\"royalblue\", label=\"water level\")\n",
    "plt.plot(watercourse_by_stations[station_list[0]]['date'][-day_len:], predictions[0], color=\"tomato\", label=\"median forecast\")\n",
    "plt.legend()\n",
    "plt.grid()\n",
    "plt.show()"
   ]
  },
  {
   "cell_type": "markdown",
   "metadata": {},
   "source": [
    "Evaluation"
   ]
  },
  {
   "cell_type": "code",
   "execution_count": null,
   "metadata": {},
   "outputs": [],
   "source": [
    "# Calculate the average r2 score\n",
    "r2_average =  []\n",
    "std_dev = []\n",
    "\n",
    "for i in range(5):\n",
    "    r2_average.append(np.mean(r2_scores[i]))\n",
    "    std_dev.append(np.std(r2_scores[i]))"
   ]
  },
  {
   "cell_type": "code",
   "execution_count": null,
   "metadata": {},
   "outputs": [],
   "source": [
    "r2_average"
   ]
  },
  {
   "cell_type": "code",
   "execution_count": null,
   "metadata": {},
   "outputs": [],
   "source": [
    "std_dev"
   ]
  },
  {
   "cell_type": "code",
   "execution_count": null,
   "metadata": {},
   "outputs": [],
   "source": [
    "scores = dict(zip(watercourse_by_stations.keys(), r2_scores[0]))\n",
    "scores = {k: v for k, v in sorted(scores.items(), key=lambda item: item[1])}"
   ]
  },
  {
   "cell_type": "code",
   "execution_count": null,
   "metadata": {},
   "outputs": [],
   "source": [
    "scores"
   ]
  }
 ],
 "metadata": {
  "kernelspec": {
   "display_name": "Python 3",
   "language": "python",
   "name": "python3"
  },
  "language_info": {
   "codemirror_mode": {
    "name": "ipython",
    "version": 3
   },
   "file_extension": ".py",
   "mimetype": "text/x-python",
   "name": "python",
   "nbconvert_exporter": "python",
   "pygments_lexer": "ipython3",
   "version": "3.12.0"
  }
 },
 "nbformat": 4,
 "nbformat_minor": 2
}
