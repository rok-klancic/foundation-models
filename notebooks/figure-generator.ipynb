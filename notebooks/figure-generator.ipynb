{
 "cells": [
  {
   "cell_type": "markdown",
   "metadata": {},
   "source": [
    "### **Generating figures, tables**"
   ]
  },
  {
   "cell_type": "markdown",
   "metadata": {},
   "source": [
    "### **1** Tables"
   ]
  },
  {
   "cell_type": "code",
   "execution_count": null,
   "metadata": {},
   "outputs": [],
   "source": [
    "import pandas as pd\n",
    "import seaborn as sns\n",
    "import matplotlib.pyplot as plt\n",
    "\n",
    "# Sample DataFrame\n",
    "data = {'Name': ['Alice', 'Bob', 'Charlie'], 'Age': [25, 30, 35]}\n",
    "df = pd.DataFrame(data)\n",
    "\n",
    "# Styling the DataFrame (with pandas)\n",
    "styled_df = df.style.set_table_styles(\n",
    "    [{'selector': 'th', 'props': [('background-color', '#40466e'), ('color', 'white')]},\n",
    "     {'selector': 'td', 'props': [('border', '1px solid black')]}]\n",
    ").set_properties(**{'text-align': 'center', 'border': '1px solid black'})\n",
    "\n",
    "# Display styled DataFrame as an image using Matplotlib\n",
    "fig, ax = plt.subplots(figsize=(5, 2))\n",
    "ax.axis('off')\n",
    "ax.table(cellText=df.values, colLabels=df.columns, cellLoc='center', loc='center', bbox=[0, 0, 1, 1])\n",
    "plt.show()\n"
   ]
  },
  {
   "cell_type": "code",
   "execution_count": null,
   "metadata": {},
   "outputs": [],
   "source": [
    "import pandas as pd\n",
    "import numpy as np\n",
    "\n",
    "# Sample DataFrame\n",
    "data = {\n",
    "    'Name': ['Alice', 'Bob', 'Charlie'],\n",
    "    'Age': [25, 30, 35],\n",
    "    'Country': ['USA', 'Canada', 'UK']\n",
    "}\n",
    "df = pd.DataFrame(data)\n",
    "\n",
    "# Applying red background color to the entire table\n",
    "styled_df = df.style.applymap(lambda x: 'background-color: white; color: black')\n",
    "\n",
    "# To display in Jupyter Notebook or save as HTML\n",
    "styled_df\n"
   ]
  },
  {
   "cell_type": "code",
   "execution_count": null,
   "metadata": {},
   "outputs": [],
   "source": [
    "import numpy as np"
   ]
  },
  {
   "cell_type": "markdown",
   "metadata": {},
   "source": [
    "##### Import all of the r2 scores"
   ]
  },
  {
   "cell_type": "code",
   "execution_count": null,
   "metadata": {},
   "outputs": [],
   "source": [
    "# chronos large\n",
    "with open('../reports/chronos-large/chronos-large-ground-water-r2.txt', 'r') as file:\n",
    "    chronos_large_r2 = [line.strip() for line in file.readlines()]\n",
    "\n",
    "# gradient-boosting\n",
    "with open('../reports/gradient-boosting/gradient-boosting-ground-water-r2.txt', 'r') as file:\n",
    "    gradient_boosting_r2 = [line.strip() for line in file.readlines()]\n",
    "\n",
    "# random forest\n",
    "with open('../reports/randomforest/randomforest-ground-water-r2.txt', 'r') as file:\n",
    "    randomforest_r2 = [line.strip() for line in file.readlines()]\n",
    "\n",
    "# n-beats\n",
    "with open('../reports/n-beats/n-beats-ground-water-r2.txt', 'r') as file:\n",
    "    n_beats_r2 = [line.strip() for line in file.readlines()]\n",
    "\n",
    "# patch-tst\n",
    "with open('../reports/patchtst/patchtst-ground-water-r2.txt', 'r') as file:\n",
    "    patch_tst_r2 = [line.strip() for line in file.readlines()]\n",
    "\n",
    "# linear regression\n",
    "with open('../reports/linear-regression/linear-regression-ground-water-r2.txt', 'r') as file:\n",
    "    linear_regression_r2 = [line.strip() for line in file.readlines()]\n"
   ]
  },
  {
   "cell_type": "markdown",
   "metadata": {},
   "source": [
    "##### Dataframe with all of the results"
   ]
  },
  {
   "cell_type": "code",
   "execution_count": null,
   "metadata": {},
   "outputs": [],
   "source": [
    "# Define all of the used models\n",
    "model_names = ['Chronos-large', 'GradientBoostingRegressor', 'RandomForestRegressor', 'N-BEATS', 'PatchTST', 'LinearRegression']\n",
    "model_scores = [chronos_large_r2, gradient_boosting_r2, randomforest_r2, n_beats_r2, patch_tst_r2, linear_regression_r2]"
   ]
  },
  {
   "cell_type": "code",
   "execution_count": null,
   "metadata": {},
   "outputs": [],
   "source": [
    "# Create the dataframe with results\n",
    "results_df = pd.DataFrame(\n",
    "    {\n",
    "        'methods': model_names\n",
    "    }\n",
    ")\n",
    "\n",
    "#Transpose the model_scores (we'll have the scores grouped by prediction horizons)\n",
    "scores_by_horizon = [list(x) for x in zip(*model_scores)]\n",
    "\n",
    "# Add the results\n",
    "# Iterate over every prediction horizon \n",
    "for scores, horizon in zip(scores_by_horizon, range(5)):\n",
    "    results_df[f'{horizon+1} day ahead'] = np.round(np.array(scores).astype(float), 3)"
   ]
  },
  {
   "cell_type": "code",
   "execution_count": null,
   "metadata": {},
   "outputs": [],
   "source": [
    "results_df"
   ]
  },
  {
   "cell_type": "code",
   "execution_count": null,
   "metadata": {},
   "outputs": [],
   "source": [
    "results_df.to_excel('../reports/figures/results_table.xlsx')"
   ]
  },
  {
   "cell_type": "markdown",
   "metadata": {},
   "source": [
    "### **2** Figures"
   ]
  },
  {
   "cell_type": "code",
   "execution_count": null,
   "metadata": {},
   "outputs": [],
   "source": [
    "import matplotlib.pyplot as plt\n",
    "import joblib"
   ]
  },
  {
   "cell_type": "markdown",
   "metadata": {},
   "source": [
    "##### Import all of the predictions"
   ]
  },
  {
   "cell_type": "code",
   "execution_count": null,
   "metadata": {},
   "outputs": [],
   "source": [
    "chronos_large_predictions = joblib.load('../reports/chronos-large/chronos-large-ground-water-predictions.joblib')\n",
    "gradient_boosting_predictions = joblib.load('../reports/gradient-boosting/gradient-boosting-ground-water-predictions.joblib')\n",
    "randomforest_predictions = joblib.load('../reports/randomforest/randomforest-ground-water-predictions.joblib')\n",
    "n_beats_predictions = joblib.load('../reports/n-beats/n-beats-ground-water-predictions.joblib')\n",
    "patch_tst_predictions = joblib.load('../reports/patchtst/patchtst-ground-water-predictions.joblib')\n",
    "linear_regression_predictions = joblib.load('../reports/linear-regression/linear-regression-ground-water-predictions.joblib')"
   ]
  },
  {
   "cell_type": "code",
   "execution_count": null,
   "metadata": {},
   "outputs": [],
   "source": [
    "# Read the true data\n",
    "aquifer_by_stations = joblib.load('aquifer_by_stations.joblib')\n",
    "\n",
    "# Set the aquifer\n",
    "aquifer = 85065"
   ]
  },
  {
   "cell_type": "code",
   "execution_count": null,
   "metadata": {},
   "outputs": [],
   "source": [
    "# Delete the last 5 days of true data\n",
    "aquifer_by_stations[aquifer] = aquifer_by_stations[aquifer][:-5]"
   ]
  },
  {
   "cell_type": "code",
   "execution_count": null,
   "metadata": {},
   "outputs": [],
   "source": [
    "def plot_predictions(horizon):    \n",
    "    plt.figure(figsize=(8, 4))\n",
    "    plt.plot(aquifer_by_stations[aquifer]['date'][-350:-280], aquifer_by_stations[aquifer]['altitude_diff'][-350:-280], color=\"black\", label=\"True data\")\n",
    "    plt.plot(aquifer_by_stations[aquifer]['date'][-350:-280], chronos_large_predictions[aquifer][horizon][-350:-280], color='#0072B2', label=\"Chronos\")\n",
    "    #plt.plot(aquifer_by_stations[aquifer]['date'][-350:-280], gradient_boosting_predictions[aquifer][horizon][-350:-280], color=\"dimgrey\", label=\"forecast\")\n",
    "    #plt.plot(aquifer_by_stations[aquifer]['date'][-350:-280], randomforest_predictions[aquifer][horizon][-350:-280], color=\"grey\", label=\"forecast\")\n",
    "    #plt.plot(aquifer_by_stations[aquifer]['date'][-350:-280], n_beats_predictions[aquifer][horizon][-350:-280], color=\"darkgrey\", label=\"forecast\")\n",
    "    plt.plot(aquifer_by_stations[aquifer]['date'][-350:-280], patch_tst_predictions[aquifer][horizon][-350:-280], color='#E69F00', label=\"PatchTST\")\n",
    "    plt.plot(aquifer_by_stations[aquifer]['date'][-350:-280], linear_regression_predictions[aquifer][horizon][-350:-280], color='#CC79A7', label=\"LinearRegression\")\n",
    "    plt.legend()\n",
    "    plt.grid()\n",
    "    plt.title(f'Predictions for Horizon {horizon+1}')\n",
    "    plt.ylabel('Water level change (m)')\n",
    "    plt.xlabel('Time')\n",
    "    plt.savefig(f'../reports/figures/predictions_horizon{horizon+1}.pdf', format='pdf')\n",
    "    plt.show()"
   ]
  },
  {
   "cell_type": "code",
   "execution_count": null,
   "metadata": {},
   "outputs": [],
   "source": [
    "for horizon in range(5):\n",
    "    plot_predictions(horizon)"
   ]
  },
  {
   "cell_type": "markdown",
   "metadata": {},
   "source": [
    "##### Graphs of r2 scores"
   ]
  },
  {
   "cell_type": "code",
   "execution_count": null,
   "metadata": {},
   "outputs": [],
   "source": [
    "# Models and horizon\n",
    "models = ['Chronos-large', 'GradientBoostingRegressor', 'RandomForestRegressor', 'N-BEATS', 'PatchTST', 'LinearRegression']\n",
    "horizons = [f'{day} day{'s' if day > 1 else ''}' for day in range(1, 6)]\n",
    "\n",
    "# R2 scores\n",
    "r2_scores = np.array(model_scores).astype(float)\n",
    "\n",
    "# Set up the figure and axis\n",
    "fig, ax = plt.subplots(figsize=(10, 4))\n",
    "\n",
    "# Define the width of the bars\n",
    "bar_width = 0.115\n",
    "# Define positions of the bars on x-axis\n",
    "r = np.arange(len(horizons))\n",
    "\n",
    "# Define colors for each model\n",
    "colors = ['#0072B2', '#E69F00', '#009E73', '#CC79A7', '#D55E00', '#56B4E9']\n",
    "\n",
    "# Plot each model's R² scores\n",
    "for i, (model, color) in enumerate(zip(models, colors)):\n",
    "    ax.bar(r + i * bar_width, r2_scores[i], width=bar_width, color=color, label=model)\n",
    "\n",
    "# Add labels and title\n",
    "ax.set_xlabel('Prediction Horizons')\n",
    "ax.set_ylabel('R² Scores')\n",
    "ax.set_title('R² Scores for Different Models and Prediction Horizons')\n",
    "ax.set_xticks(r + bar_width * (len(models) - 1) / 2)\n",
    "ax.set_xticklabels(horizons, rotation=45)\n",
    "\n",
    "# Place the legend outside the plot area\n",
    "ax.legend(title='Models', bbox_to_anchor=(1, 1.03), loc='upper left')\n",
    "\n",
    "# Show the plot\n",
    "plt.tight_layout()\n",
    "plt.savefig('../reports/figures/r2_scores_graph.pdf', format='pdf')\n",
    "plt.show()\n"
   ]
  },
  {
   "cell_type": "code",
   "execution_count": null,
   "metadata": {},
   "outputs": [],
   "source": [
    "r2_scores = np.random.rand(len(models), len(horizons))\n",
    "r2_scores"
   ]
  },
  {
   "cell_type": "code",
   "execution_count": null,
   "metadata": {},
   "outputs": [],
   "source": [
    "np.round(np.array(model_scores).astype(float), 3)"
   ]
  },
  {
   "cell_type": "code",
   "execution_count": null,
   "metadata": {},
   "outputs": [],
   "source": [
    "import matplotlib.pyplot as plt\n",
    "import numpy as np\n",
    "\n",
    "# Sample data\n",
    "models = ['Model 1', 'Model 2', 'Model 3', 'Model 4', 'Model 5', 'Model 6']\n",
    "horizons = ['Horizon 1', 'Horizon 2', 'Horizon 3', 'Horizon 4', 'Horizon 5']\n",
    "\n",
    "# Randomly generated R² scores for demonstration\n",
    "np.random.seed(0)\n",
    "r2_scores = np.random.rand(len(models), len(horizons))\n",
    "\n",
    "# Set up the figure and axis\n",
    "fig, ax = plt.subplots(figsize=(10, 7))\n",
    "\n",
    "# Define the width of the bars\n",
    "bar_width = 0.15\n",
    "# Define positions of the bars on x-axis\n",
    "r = np.arange(len(horizons))\n",
    "\n",
    "# Plot each model's R² scores\n",
    "for i, model in enumerate(models):\n",
    "    ax.bar(r + i * bar_width, r2_scores[i], width=bar_width, label=model)\n",
    "\n",
    "# Add labels and title\n",
    "ax.set_xlabel('Prediction Horizons')\n",
    "ax.set_ylabel('R² Scores')\n",
    "ax.set_title('R² Scores for Different Models and Prediction Horizons')\n",
    "ax.set_xticks(r + bar_width * (len(models) - 1) / 2)\n",
    "ax.set_xticklabels(horizons, rotation=45)\n",
    "ax.legend(title='Models')\n",
    "\n",
    "# Show the plot\n",
    "plt.tight_layout()\n",
    "plt.show()\n"
   ]
  },
  {
   "cell_type": "markdown",
   "metadata": {},
   "source": [
    "### **3** R2 score for absolute water level"
   ]
  },
  {
   "cell_type": "code",
   "execution_count": null,
   "metadata": {},
   "outputs": [],
   "source": [
    "import joblib\n",
    "# Read the dataset\n",
    "aquifer_by_stations = joblib.load('aquifer_by_stations.joblib')"
   ]
  },
  {
   "cell_type": "code",
   "execution_count": null,
   "metadata": {},
   "outputs": [],
   "source": [
    "relative_aquifer = aquifer_by_stations[85065][:-5]"
   ]
  },
  {
   "cell_type": "code",
   "execution_count": null,
   "metadata": {},
   "outputs": [],
   "source": [
    "day_len = 365"
   ]
  },
  {
   "cell_type": "code",
   "execution_count": null,
   "metadata": {},
   "outputs": [],
   "source": [
    "day_1 = joblib.load('../reports/chronos-large/chronos-large-ground-water-predictions.joblib')\n",
    "day_1 = day_1[85065]\n",
    "day_1 = day_1[0]"
   ]
  },
  {
   "cell_type": "code",
   "execution_count": null,
   "metadata": {},
   "outputs": [],
   "source": [
    "len(day_1)"
   ]
  },
  {
   "cell_type": "code",
   "execution_count": null,
   "metadata": {},
   "outputs": [],
   "source": [
    "# Change the predicted relative differences to the absolute altitudes\n",
    "\n",
    "# Get the last day_len + 1 days without the last one\n",
    "altitudes = relative_aquifer['altitude'][-(day_len+1):-1]\n",
    "\n",
    "# Sum original altitudes and relative differences\n",
    "altitudes = altitudes + day_1"
   ]
  },
  {
   "cell_type": "code",
   "execution_count": null,
   "metadata": {},
   "outputs": [],
   "source": [
    "from sklearn.metrics import r2_score\n",
    "# Calculate the r2 score\n",
    "r2_score(relative_aquifer['altitude'][-day_len:], altitudes)"
   ]
  }
 ],
 "metadata": {
  "kernelspec": {
   "display_name": "Python 3",
   "language": "python",
   "name": "python3"
  },
  "language_info": {
   "codemirror_mode": {
    "name": "ipython",
    "version": 3
   },
   "file_extension": ".py",
   "mimetype": "text/x-python",
   "name": "python",
   "nbconvert_exporter": "python",
   "pygments_lexer": "ipython3",
   "version": "3.12.0"
  }
 },
 "nbformat": 4,
 "nbformat_minor": 2
}
